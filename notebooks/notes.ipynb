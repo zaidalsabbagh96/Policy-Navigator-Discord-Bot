{
 "cells": [
  {
   "cell_type": "markdown",
   "id": "c5425101",
   "metadata": {},
   "source": [
    "# Project Setup Notebook\n",
    "\n",
    "This notebook bootstraps IDs needed by the project. It will:\n",
    "1) Load your environment from `.env`.\n",
    "2) Create an aiXplain **Index** if `INDEX_ID` is missing.\n",
    "3) Optionally verify an existing **LLM_ID** and **Agent** (if you choose).\n",
    "4) Persist the new `INDEX_ID` back into `.env`.\n",
    "\n",
    "**Requirements**: a valid `AIXPLAIN_API_KEY` in `.env`."
   ]
  },
  {
   "cell_type": "code",
   "execution_count": null,
   "id": "22d614b7",
   "metadata": {},
   "outputs": [],
   "source": [
    "import sys, subprocess\n",
    "def pip_install(pkgs):\n",
    "    subprocess.check_call([sys.executable, '-m', 'pip', 'install', '-q'] + pkgs)\n",
    "pip_install(['aixplain', 'python-dotenv'])\n",
    "print('Dependencies ready')"
   ]
  },
  {
   "cell_type": "code",
   "execution_count": null,
   "id": "0f45d585",
   "metadata": {},
   "outputs": [],
   "source": [
    "import os\n",
    "from dotenv import load_dotenv\n",
    "from pathlib import Path\n",
    "from datetime import datetime\n",
    "\n",
    "ENV_PATH = Path('.env')\n",
    "load_dotenv(dotenv_path=ENV_PATH if ENV_PATH.exists() else None)\n",
    "\n",
    "def write_env_var(key: str, value: str, env_path: Path = ENV_PATH):\n",
    "    lines = []\n",
    "    if env_path.exists():\n",
    "        with env_path.open('r', encoding='utf-8') as f:\n",
    "            lines = f.read().splitlines()\n",
    "    found = False\n",
    "    out = []\n",
    "    for line in lines:\n",
    "        if line.strip().startswith(f'{key}='):\n",
    "            out.append(f'{key}={value}')\n",
    "            found = True\n",
    "        else:\n",
    "            out.append(line)\n",
    "    if not found:\n",
    "        out.append(f'{key}={value}')\n",
    "    with env_path.open('w', encoding='utf-8') as f:\n",
    "        f.write('\\n'.join(out) + ('\\n' if out and out[-1] else ''))\n",
    "    os.environ[key] = value\n",
    "    return value\n",
    "\n",
    "api_key = os.getenv('AIXPLAIN_API_KEY')\n",
    "if not api_key:\n",
    "    raise RuntimeError(\"AIXPLAIN_API_KEY is missing in .env — add it and rerun this cell.\")\n",
    "print('Loaded AIXPLAIN_API_KEY ✅')"
   ]
  },
  {
   "cell_type": "code",
   "execution_count": null,
   "id": "9bf1ddb6",
   "metadata": {},
   "outputs": [],
   "source": [
    "from aixplain.factories import IndexFactory\n",
    "import os\n",
    "from datetime import datetime\n",
    "\n",
    "INDEX_ID = os.getenv('INDEX_ID')\n",
    "if INDEX_ID:\n",
    "    try:\n",
    "        idx = IndexFactory.get(INDEX_ID)\n",
    "        _ = getattr(idx, 'id', None)\n",
    "        print('Found existing INDEX_ID:', INDEX_ID)\n",
    "    except Exception as e:\n",
    "        print('Existing INDEX_ID invalid, creating a new index...')\n",
    "        idx = IndexFactory.create(\n",
    "            name=f'PolicyNavigatorIndex-{datetime.utcnow().strftime(\"%Y%m%d-%H%M%S\")}',\n",
    "            description='Index for Policy Navigator project (auto-created by setup notebook).'\n",
    "        )\n",
    "        INDEX_ID = idx.id\n",
    "        write_env_var('INDEX_ID', INDEX_ID)\n",
    "        print('Created and saved new INDEX_ID:', INDEX_ID)\n",
    "else:\n",
    "    idx = IndexFactory.create(\n",
    "        name=f'PolicyNavigatorIndex-{datetime.utcnow().strftime(\"%Y%m%d-%H%M%S\")}',\n",
    "        description='Index for Policy Navigator project (auto-created by setup notebook).'\n",
    "    )\n",
    "    INDEX_ID = idx.id\n",
    "    write_env_var('INDEX_ID', INDEX_ID)\n",
    "    print('Created and saved new INDEX_ID:', INDEX_ID)\n",
    "\n",
    "INDEX_ID"
   ]
  },
  {
   "cell_type": "markdown",
   "id": "28dc8661",
   "metadata": {},
   "source": [
    "### Optional: Verify LLM and create a simple Agent (skips if `LLM_ID` is missing)\n",
    "This is not required for indexing, but useful for quick end-to-end checks."
   ]
  },
  {
   "cell_type": "code",
   "execution_count": null,
   "id": "5a112ed5",
   "metadata": {},
   "outputs": [],
   "source": [
    "import os\n",
    "from datetime import datetime\n",
    "from aixplain.factories import AgentFactory\n",
    "\n",
    "LLM_ID = os.getenv('LLM_ID')\n",
    "if not LLM_ID:\n",
    "    print('LLM_ID not set — skipping agent creation.')\n",
    "else:\n",
    "    try:\n",
    "        agent = AgentFactory.create(\n",
    "            name=f'PolicyNavigator-Agent-{datetime.utcnow().strftime(\"%Y%m%d-%H%M%S\")}',\n",
    "            description='Simple agent for quick tests created by setup notebook.',\n",
    "            instructions='Answer briefly and include citations when possible.',\n",
    "            tools=[],\n",
    "            llm_id=LLM_ID,\n",
    "        )\n",
    "        print('Agent created. ID:', agent.id)\n",
    "    except Exception as e:\n",
    "        print('Agent creation failed (likely invalid LLM_ID or permissions):', e)"
   ]
  },
  {
   "cell_type": "markdown",
   "id": "da476b3d",
   "metadata": {},
   "source": [
    "### Summary\n",
    "- `INDEX_ID` is now guaranteed in `.env`.\n",
    "- If you provided `LLM_ID`, a temporary agent may have been created for smoke testing.\n",
    "\n",
    "Next steps:\n",
    "1) Run your ingestion (`ingest`/`indexer`) to add data into the index.\n",
    "2) Run your pipeline/agent code — they will read `INDEX_ID` from `.env`."
   ]
  }
 ],
 "metadata": {},
 "nbformat": 4,
 "nbformat_minor": 5
}
